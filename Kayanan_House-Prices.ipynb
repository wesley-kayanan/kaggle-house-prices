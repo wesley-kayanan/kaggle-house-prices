{
 "cells": [
  {
   "cell_type": "markdown",
   "id": "888f89ee",
   "metadata": {},
   "source": [
    "# House Prices - Advanced Regression Techniques\n",
    "1. [General](#general)\n",
    "2. [Data Overview](#summary)\n",
    "3. [Data Processing and Cleaning](#dpc)\n",
    "4. [Feature Selection](#feature)\n",
    "5. [Machine Learning and Modeling](#modeling)"
   ]
  },
  {
   "cell_type": "markdown",
   "id": "1455410a",
   "metadata": {},
   "source": [
    "<a id=\"general\"></a>\n",
    "## General"
   ]
  },
  {
   "cell_type": "code",
   "execution_count": null,
   "id": "e3103286",
   "metadata": {},
   "outputs": [],
   "source": [
    "!pip3 install pandas\n",
    "!pip3 install plotly\n",
    "!pip3 install statsmodels\n",
    "!pip3 install sklearn\n",
    "!pip3 install matplotlib"
   ]
  },
  {
   "cell_type": "markdown",
   "id": "f95013e7",
   "metadata": {},
   "source": [
    "### Imports "
   ]
  },
  {
   "cell_type": "code",
   "execution_count": null,
   "id": "6dd2b2aa",
   "metadata": {},
   "outputs": [],
   "source": [
    "# Data manipulation\n",
    "import pandas as pd\n",
    "import numpy as np\n",
    "\n",
    "# Plotting\n",
    "import plotly.express as px\n",
    "import plotly.graph_objects as go\n",
    "\n",
    "# Feature Engineering\n",
    "from statsmodels.stats.outliers_influence import variance_inflation_factor\n",
    "\n",
    "# Modeling and Machine Learning\n",
    "from sklearn.model_selection import GridSearchCV\n",
    "from sklearn.linear_model import LinearRegression\n",
    "from sklearn.tree import DecisionTreeRegressor\n",
    "from sklearn.ensemble import RandomForestRegressor\n",
    "from sklearn.linear_model import Ridge\n",
    "from sklearn.ensemble import GradientBoostingRegressor\n",
    "from sklearn.model_selection import train_test_split"
   ]
  },
  {
   "cell_type": "code",
   "execution_count": null,
   "id": "ae55852f",
   "metadata": {},
   "outputs": [],
   "source": [
    "train = pd.read_csv('train.csv')\n",
    "test = pd.read_csv('test.csv')\n",
    "\n",
    "target = ['SalePrice']"
   ]
  },
  {
   "cell_type": "markdown",
   "id": "119f5582",
   "metadata": {},
   "source": [
    "### Functions"
   ]
  },
  {
   "cell_type": "code",
   "execution_count": null,
   "id": "79daadf2",
   "metadata": {},
   "outputs": [],
   "source": [
    "# Computational Functions\n",
    "def vif(df, features):\n",
    "    x = df[features].assign(const=1)\n",
    "    vif = pd.DataFrame()\n",
    "    vif[\"variable\"] = features\n",
    "    vif[\"value\"] = [variance_inflation_factor(x.values, i) for i in range(len(features))]\n",
    "    vif.sort_values('value', ascending=False, inplace=True)\n",
    "    print(vif)"
   ]
  },
  {
   "cell_type": "code",
   "execution_count": null,
   "id": "58f9b848",
   "metadata": {},
   "outputs": [],
   "source": [
    "# Figure and Plotting Functions\n",
    "def heatmap(df):\n",
    "\n",
    "    fig = go.Figure(\n",
    "        data=go.Heatmap(\n",
    "            z=df,\n",
    "            x=df.columns,\n",
    "            y=df.columns,\n",
    "            hoverongaps = False\n",
    "        )\n",
    "    )\n",
    "    \n",
    "    fig.show()\n",
    "\n",
    "def scattermatrix(df, height, width):\n",
    "    fig = px.scatter_matrix(df)\n",
    "    \n",
    "    fig.update_layout(\n",
    "        dragmode='select',\n",
    "        width=width,\n",
    "        height=height,\n",
    "        hovermode='closest',\n",
    "    )\n",
    "    \n",
    "    fig.show()"
   ]
  },
  {
   "cell_type": "code",
   "execution_count": null,
   "id": "4f82fe8c",
   "metadata": {},
   "outputs": [],
   "source": [
    "# Helper Functions\n",
    "def printMLScore(algo, score, opt_score):\n",
    "    print(f\"Model: {algo} \\t Score: {score:.4f} \\t Score (GridSearchCV): {opt_score:.4f}\")\n",
    "\n",
    "def saveSubmission(scores, ids, algo):\n",
    "    df = pd.DataFrame({\"Id\": ids, \"SalePrice\": scores}, columns=[\"Id\", \"SalePrice\"])\n",
    "    df = df.set_index(\"Id\")\n",
    "    df.to_csv(f'House Price Submission (Kaggle) - {algo}.csv')"
   ]
  },
  {
   "cell_type": "markdown",
   "id": "47bf8d09",
   "metadata": {},
   "source": [
    "<a id=\"summary\"></a>\n",
    "##  Data Overview"
   ]
  },
  {
   "cell_type": "code",
   "execution_count": null,
   "id": "a2e95ee3",
   "metadata": {},
   "outputs": [],
   "source": [
    "# Apply one hot encoding for nominal\n",
    "\n",
    "train_nom = train.select_dtypes(exclude=['int64', 'float64']).columns\n",
    "test_nom = test.select_dtypes(exclude=['int64', 'float64']).columns\n",
    "\n",
    "train_dummy = train\n",
    "test_dummy = test\n",
    "\n",
    "for nom in train_nom:\n",
    "    train_dummy = pd.get_dummies(train_dummy, drop_first=True, columns=[nom], prefix=nom)\n",
    "\n",
    "for nom in train_nom:\n",
    "    test_dummy = pd.get_dummies(test_dummy, drop_first=True, columns=[nom], prefix=nom)\n",
    "    \n",
    "train = train_dummy\n",
    "test = test_dummy\n",
    "\n",
    "# Apply one hot encoding for ordinal"
   ]
  },
  {
   "cell_type": "code",
   "execution_count": null,
   "id": "4d8301bc",
   "metadata": {},
   "outputs": [],
   "source": [
    "train.head(5)"
   ]
  },
  {
   "cell_type": "code",
   "execution_count": null,
   "id": "53b22c8e",
   "metadata": {},
   "outputs": [],
   "source": [
    "train = train.drop('Id', axis=1)"
   ]
  },
  {
   "cell_type": "code",
   "execution_count": null,
   "id": "2c0edc23",
   "metadata": {},
   "outputs": [],
   "source": [
    "train.shape, test.shape"
   ]
  },
  {
   "cell_type": "code",
   "execution_count": null,
   "id": "097c3825",
   "metadata": {},
   "outputs": [],
   "source": [
    "train.describe()"
   ]
  },
  {
   "cell_type": "code",
   "execution_count": null,
   "id": "c580b5fa",
   "metadata": {},
   "outputs": [],
   "source": [
    "train.columns"
   ]
  },
  {
   "cell_type": "code",
   "execution_count": null,
   "id": "9f13f26e",
   "metadata": {},
   "outputs": [],
   "source": [
    "train.dtypes"
   ]
  },
  {
   "cell_type": "code",
   "execution_count": null,
   "id": "e8eec0b9",
   "metadata": {},
   "outputs": [],
   "source": [
    "hist = train[target].hist(bins=50)"
   ]
  },
  {
   "cell_type": "code",
   "execution_count": null,
   "id": "05f213ce",
   "metadata": {},
   "outputs": [],
   "source": [
    "skew = float(train[target].skew())\n",
    "kurt = float(train[target].kurt())\n",
    "\n",
    "print(f\"Skewness: {skew:.2f} \\t Kurtosis: {kurt:.2f}\")"
   ]
  },
  {
   "cell_type": "code",
   "execution_count": null,
   "id": "923258eb",
   "metadata": {},
   "outputs": [],
   "source": [
    "# Get Correlation Matrix\n",
    "corr = train.corr()\n",
    "corr_sp = abs(corr[target])\n",
    "index = corr_sp[corr_sp['SalePrice'] > 0.5]\n",
    "index = list(index.index)\n",
    "index"
   ]
  },
  {
   "cell_type": "code",
   "execution_count": null,
   "id": "1ad054cc",
   "metadata": {},
   "outputs": [],
   "source": [
    "heatmap(corr[index])"
   ]
  },
  {
   "cell_type": "code",
   "execution_count": null,
   "id": "f81716eb",
   "metadata": {},
   "outputs": [],
   "source": [
    "scattermatrix(train[index], 1300, 1300)"
   ]
  },
  {
   "cell_type": "markdown",
   "id": "e89a5937",
   "metadata": {},
   "source": [
    "<a id=\"dpc\"></a>\n",
    "## Data Processing and Cleaning"
   ]
  },
  {
   "cell_type": "markdown",
   "id": "73adbffa",
   "metadata": {},
   "source": [
    "### Duplicates"
   ]
  },
  {
   "cell_type": "code",
   "execution_count": null,
   "id": "715f40cb",
   "metadata": {},
   "outputs": [],
   "source": [
    "if len(train[train.duplicated()]) > 0:\n",
    "    print(f\"Found duplicates\")"
   ]
  },
  {
   "cell_type": "markdown",
   "id": "559a3b8b",
   "metadata": {},
   "source": [
    "### Deleting Columns of Null Values"
   ]
  },
  {
   "cell_type": "code",
   "execution_count": null,
   "id": "1d0f37d0",
   "metadata": {},
   "outputs": [],
   "source": [
    "train_nan = pd.isna(train).sum()\n",
    "test_nan = pd.isna(test).sum()\n",
    "\n",
    "# Get columns that have missing values on both train and test data\n",
    "nan_features = list(set().union(train_nan[train_nan > 0].index, test_nan[test_nan > 0].index))\n",
    "\n",
    "# Display the table summary of null values\n",
    "nan_table = pd.concat([train_nan.loc[nan_features], test_nan.loc[nan_features]], axis=1, keys=[\"Train\", \"Test\"])\n",
    "print(nan_table)\n",
    "\n",
    "imp_features = list(set(nan_features).intersection(set(index)))\n",
    "\n",
    "# Exclude important features from the ones that will be deletes\n",
    "nan_features = list(set(nan_features) - set(index))"
   ]
  },
  {
   "cell_type": "code",
   "execution_count": null,
   "id": "69040348",
   "metadata": {},
   "outputs": [],
   "source": [
    "# Drop columns with missing values\n",
    "train = train.drop(nan_features, axis=1)\n",
    "test = test.drop(nan_features, axis=1)"
   ]
  },
  {
   "cell_type": "markdown",
   "id": "1c0aa43c",
   "metadata": {},
   "source": [
    "### Imputation of Missing Values"
   ]
  },
  {
   "cell_type": "code",
   "execution_count": null,
   "id": "6e4f3dd2",
   "metadata": {},
   "outputs": [],
   "source": [
    "# Impute missing values present in Test Data (TotalBsmtSF, GarageCars, GarageArea)\n",
    "\n",
    "for feature in imp_features:\n",
    "    test[feature].fillna(test[feature].mean(), inplace=True)"
   ]
  },
  {
   "cell_type": "markdown",
   "id": "3673babb",
   "metadata": {},
   "source": [
    "<a id=\"feature\"></a>\n",
    "## Feature Selection"
   ]
  },
  {
   "cell_type": "code",
   "execution_count": null,
   "id": "4c8c775c",
   "metadata": {},
   "outputs": [],
   "source": [
    "# Create variable for all variables without target\n",
    "features = list(set(index) - set(target))"
   ]
  },
  {
   "cell_type": "code",
   "execution_count": null,
   "id": "59c021c1",
   "metadata": {},
   "outputs": [],
   "source": [
    "# Applying a logarithmic function to the Sale Price produces a more \"normal distribution\"\n",
    "hist_log = np.log(train[\"SalePrice\"]).hist(bins=50)"
   ]
  },
  {
   "cell_type": "code",
   "execution_count": null,
   "id": "906b18f6",
   "metadata": {},
   "outputs": [],
   "source": [
    "# Create a new variable based on the logarithmic value of the sale price\n",
    "# ML algorithms are usually better at normally distributed values\n",
    "train[\"LogPrice\"] = np.log(train[\"SalePrice\"])\n",
    "train[\"LogPrice\"]"
   ]
  },
  {
   "cell_type": "code",
   "execution_count": null,
   "id": "d14c4d85",
   "metadata": {
    "scrolled": true
   },
   "outputs": [],
   "source": [
    "# Display VIF of features as to detect multicollinearity\n",
    "vif(train, features)"
   ]
  },
  {
   "cell_type": "code",
   "execution_count": null,
   "id": "d8a7d12c",
   "metadata": {},
   "outputs": [],
   "source": [
    "# Remove at least 2 features to have all variables with a VIF below 5\n",
    "features = list(set(features) - set(['GarageCars', 'GrLivArea']))\n",
    "vif(train, features)"
   ]
  },
  {
   "cell_type": "markdown",
   "id": "7d311ff4",
   "metadata": {},
   "source": [
    "<a id=\"modeling\"></a>\n",
    "## Modeling with Machine Learning"
   ]
  },
  {
   "cell_type": "markdown",
   "id": "ad49e10e",
   "metadata": {},
   "source": [
    "#### Splitting for Training and Testing"
   ]
  },
  {
   "cell_type": "code",
   "execution_count": null,
   "id": "5377be03",
   "metadata": {},
   "outputs": [],
   "source": [
    "# Create x and y for training\n",
    "train_x = train[features]\n",
    "train_y  = train['LogPrice']"
   ]
  },
  {
   "cell_type": "code",
   "execution_count": null,
   "id": "f430b4f5",
   "metadata": {},
   "outputs": [],
   "source": [
    "# Create validation data\n",
    "s_train_x, s_test_x, s_train_y, s_test_y = train_test_split(train_x, train_y, train_size=0.7, random_state=0)"
   ]
  },
  {
   "cell_type": "markdown",
   "id": "b682df1a",
   "metadata": {},
   "source": [
    "### Linear Regression"
   ]
  },
  {
   "cell_type": "code",
   "execution_count": null,
   "id": "963376f4",
   "metadata": {},
   "outputs": [],
   "source": [
    "# Create Linear Regression Model\n",
    "lm = LinearRegression()\n",
    "lm.fit(s_train_x, s_train_y)\n",
    "\n",
    "# Optimize hyperparameters with GridSearchCV\n",
    "param_lm = {\"fit_intercept\" : [True, False], \"copy_X\" : [True, False]}\n",
    "\n",
    "model_lm = GridSearchCV(lm, param_lm, verbose=1 , scoring = \"r2\")\n",
    "model_lm.fit(s_train_x, s_train_y)\n",
    "\n",
    "printMLScore(\"Linear Regression\", lm.score(s_test_x, s_test_y), model_lm.score(s_test_x, s_test_y))"
   ]
  },
  {
   "cell_type": "code",
   "execution_count": null,
   "id": "0cd00fe1",
   "metadata": {},
   "outputs": [],
   "source": [
    "# Predictions\n",
    "pred_lm = model_lm.predict(test[features])\n",
    "saveSubmission(np.exp(pred_lm), test['Id'], \"Linear Regression\")"
   ]
  },
  {
   "cell_type": "markdown",
   "id": "4de95252",
   "metadata": {},
   "source": [
    "### Decision Tree Regression"
   ]
  },
  {
   "cell_type": "code",
   "execution_count": null,
   "id": "00c2d599",
   "metadata": {},
   "outputs": [],
   "source": [
    "# Create Decision Tree Regression Model\n",
    "dtr = DecisionTreeRegressor(random_state=0)\n",
    "dtr.fit(s_train_x, s_train_y)\n",
    "\n",
    "# Optimize hyperparameters with GridSearchCV\n",
    "param_dtr = {\n",
    "    \"criterion\" : [\"friedman_mse\"], \n",
    "    \"splitter\" : [\"best\", \"random\"], \n",
    "    \"min_samples_split\" : [2, 3, 5, 10], \n",
    "    \"max_features\" : [\"auto\", \"log2\"]\n",
    "}\n",
    "\n",
    "model_dtr = GridSearchCV(dtr, param_dtr, verbose=1, scoring=\"r2\")\n",
    "model_dtr.fit(s_train_x, s_train_y)\n",
    "\n",
    "printMLScore(f\"Decision Tree Regression\", dtr.score(s_test_x, s_test_y), model_dtr.score(s_test_x, s_test_y))"
   ]
  },
  {
   "cell_type": "code",
   "execution_count": null,
   "id": "7c21133d",
   "metadata": {},
   "outputs": [],
   "source": [
    "# Predictions\n",
    "pred_dtr = model_dtr.predict(test[features])\n",
    "saveSubmission(np.exp(pred_dtr), test['Id'], \"Decision Tree Regression\")"
   ]
  },
  {
   "cell_type": "markdown",
   "id": "ae368020",
   "metadata": {},
   "source": [
    "### Random Forest Regression"
   ]
  },
  {
   "cell_type": "code",
   "execution_count": null,
   "id": "dde5591b",
   "metadata": {},
   "outputs": [],
   "source": [
    "# Create Random Forest Regression Model\n",
    "rfr = RandomForestRegressor(random_state=0)\n",
    "rfr.fit(s_train_x, s_train_y)\n",
    "\n",
    "# Optimize hyperparameters with GridSearchCV\n",
    "param_rfr = {\n",
    "    \"n_estimators\" : [5, 10, 15, 20], \n",
    "    \"min_samples_split\" : [2, 3, 5, 10], \n",
    "    \"max_features\" : [\"auto\", \"log2\"]\n",
    "}\n",
    "\n",
    "model_rfr = GridSearchCV(rfr, param_rfr, verbose=1, scoring=\"r2\")\n",
    "model_rfr.fit(s_train_x, s_train_y)\n",
    "\n",
    "printMLScore(\"Random Forest Regression\", rfr.score(s_test_x, s_test_y), model_rfr.score(s_test_x, s_test_y))"
   ]
  },
  {
   "cell_type": "code",
   "execution_count": null,
   "id": "02029dfb",
   "metadata": {},
   "outputs": [],
   "source": [
    "# Predictions\n",
    "pred_rfr = model_rfr.predict(test[features])\n",
    "saveSubmission(np.exp(pred_rfr), test['Id'], \"Random Forest Regression\")"
   ]
  },
  {
   "cell_type": "markdown",
   "id": "a20d5952",
   "metadata": {},
   "source": [
    "### Ridge Regression"
   ]
  },
  {
   "cell_type": "code",
   "execution_count": null,
   "id": "85bc8bc3",
   "metadata": {},
   "outputs": [],
   "source": [
    "# Create Ridge Regression Model\n",
    "rid = Ridge()\n",
    "rid.fit(s_train_x, s_train_y)\n",
    "\n",
    "# Optimize hyperparameters with GridSearchCV\n",
    "param_ridge = {\n",
    "    \"fit_intercept\" : [True, False],\n",
    "    \"copy_X\" : [True, False],\n",
    "    \"solver\" : [\"auto\"]\n",
    "}\n",
    "\n",
    "model_rid = GridSearchCV(rid, param_ridge, verbose=1, scoring=\"r2\")\n",
    "model_rid.fit(s_train_x, s_train_y)\n",
    "\n",
    "printMLScore(\"Ridge Regression\", rid.score(s_test_x, s_test_y), model_rid.score(s_test_x, s_test_y))"
   ]
  },
  {
   "cell_type": "code",
   "execution_count": null,
   "id": "fe7d9401",
   "metadata": {},
   "outputs": [],
   "source": [
    "# Predictions\n",
    "pred_rid = model_rid.predict(test[features])\n",
    "saveSubmission(np.exp(pred_rid), test['Id'], \"Ridge Regression\")"
   ]
  },
  {
   "cell_type": "markdown",
   "id": "f05ad953",
   "metadata": {},
   "source": [
    "### Gradient Boosting Regression"
   ]
  },
  {
   "cell_type": "code",
   "execution_count": null,
   "id": "9ea283a9",
   "metadata": {},
   "outputs": [],
   "source": [
    "# # Create Gradient Boosing Regression Regression Model\n",
    "\n",
    "# model_gbr = GradientBoostingRegressor()\n",
    "# model_gbr.fit(s_train_x, s_train_y)\n",
    "\n",
    "# printMLScore(\"Gradient Boosting Regression\", gbr.score(s_test_x, s_test_y), model_gbr.score(s_test_x, s_test_y))"
   ]
  },
  {
   "cell_type": "code",
   "execution_count": null,
   "id": "c6757f82",
   "metadata": {},
   "outputs": [],
   "source": [
    "# # Predictions\n",
    "# pred_gbr = model_gbr.predict(test[features])\n",
    "# saveSubmission(np.exp(pred_gbr), test['Id'], \"Gradient Boosting Regression\")"
   ]
  }
 ],
 "metadata": {
  "kernelspec": {
   "display_name": "Python 3 (ipykernel)",
   "language": "python",
   "name": "python3"
  },
  "language_info": {
   "codemirror_mode": {
    "name": "ipython",
    "version": 3
   },
   "file_extension": ".py",
   "mimetype": "text/x-python",
   "name": "python",
   "nbconvert_exporter": "python",
   "pygments_lexer": "ipython3",
   "version": "3.9.7"
  }
 },
 "nbformat": 4,
 "nbformat_minor": 5
}
